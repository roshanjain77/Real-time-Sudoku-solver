{
 "cells": [
  {
   "cell_type": "code",
   "execution_count": 1,
   "metadata": {},
   "outputs": [],
   "source": [
    "import cv2\n",
    "from os import system\n",
    "\n",
    "import numpy as np\n",
    "\n",
    "from utils import *\n",
    "from sudoku_solution import Solution"
   ]
  },
  {
   "cell_type": "code",
   "execution_count": 2,
   "metadata": {},
   "outputs": [],
   "source": [
    "IMG_LOC = \"Images/rotated-board.jpg\"\n",
    "\n",
    "img = cv2.imread(IMG_LOC, 1)\n",
    "\n",
    "show(img)\n",
    "\n",
    "HEIGHT, WIDTH = img.shape[:2]\n",
    "AREA = HEIGHT * WIDTH\n",
    "\n",
    "CELL_AREA_MAX = int(AREA / (9*9)) + 1\n",
    "CELL_AREA_MIN = CELL_AREA_MAX // 12"
   ]
  },
  {
   "cell_type": "code",
   "execution_count": 3,
   "metadata": {},
   "outputs": [],
   "source": [
    "gray = cv2.cvtColor(img, cv2.COLOR_BGR2GRAY)\n",
    "blur = cv2.GaussianBlur(gray, (5, 5), 0)\n",
    "thresh = cv2.adaptiveThreshold(blur, 255, cv2.ADAPTIVE_THRESH_GAUSSIAN_C, cv2.THRESH_BINARY, 9, 4)\n",
    "thresh2 = cv2.erode(thresh, KERNEL5)\n",
    "\n",
    "\n",
    "contours, _ = cv2.findContours(thresh2, cv2.RETR_LIST, cv2.CHAIN_APPROX_SIMPLE)"
   ]
  },
  {
   "cell_type": "code",
   "execution_count": 4,
   "metadata": {},
   "outputs": [],
   "source": [
    "possible_cell_area = []\n",
    "boards = []\n",
    "\n",
    "for cnt in contours:\n",
    "\n",
    "    cur = cv2.contourArea(cnt)\n",
    "    \n",
    "    if CELL_AREA_MIN < cur < CELL_AREA_MAX:\n",
    "\n",
    "        simplified = approxPoly(cnt)\n",
    "        if len(simplified) == 4:\n",
    "            possible_cell_area.append(cur)\n",
    "    \n",
    "    elif CELL_AREA_MIN * 81 < cur < CELL_AREA_MAX * 81:\n",
    "        \n",
    "        simplified = approxPoly(cnt)\n",
    "        if len(simplified) == 4:\n",
    "            boards.append([cur, simplified])\n",
    "\n",
    "\n",
    "possible_cell_area.sort()\n",
    "\n",
    "Area, _ = frameArea(possible_cell_area)\n",
    "\n",
    "\n",
    "outerContour = None\n",
    "\n",
    "for area, contour in boards:\n",
    "    if Area * 0.7 < area < Area * 1.7:\n",
    "        outerContour = contour\n"
   ]
  },
  {
   "cell_type": "code",
   "execution_count": 5,
   "metadata": {},
   "outputs": [],
   "source": [
    "if outerContour is not None:\n",
    "    \n",
    "    pt1 = np.float32(sorted(outerContour.reshape(4, 2), key=lambda x: (x[0], x[1])))\n",
    "    \n",
    "    pt2 = [[0, 0], [0, OUTER_DIM], [OUTER_DIM, 0], [OUTER_DIM, OUTER_DIM]]\n",
    "    if pt1[0][1] > pt1[1][1]:\n",
    "        pt2[0], pt2[1] = pt2[1], pt2[0]\n",
    "    \n",
    "    if pt1[2][1] > pt1[3][1]:\n",
    "        pt2[2], pt2[3] = pt2[3], pt2[2]\n",
    "    \n",
    "    pt2 = np.float32(pt2)\n",
    "    \n",
    "    M = cv2.getPerspectiveTransform(pt1, pt2)\n",
    "    new_img = cv2.warpPerspective(thresh, M, (OUTER_DIM, OUTER_DIM))\n",
    "    new_img = cv2.bitwise_not(new_img)\n",
    "    \n",
    "else:\n",
    "    print(\"No board detected\")\n"
   ]
  },
  {
   "cell_type": "code",
   "execution_count": 6,
   "metadata": {},
   "outputs": [],
   "source": [
    "rois = []\n",
    "\n",
    "for i in range(9):\n",
    "    rois.append([])\n",
    "    for j in range(9):\n",
    "        rois[-1].append(new_img[CELL*i + MARGIN:CELL*(i+1) - MARGIN, CELL*j + MARGIN: CELL*(j+1) - MARGIN])\n"
   ]
  },
  {
   "cell_type": "code",
   "execution_count": 7,
   "metadata": {},
   "outputs": [
    {
     "name": "stdout",
     "output_type": "stream",
     "text": [
      "Succeeded\n"
     ]
    }
   ],
   "source": [
    "unsolved_board = getSudokuboard(rois).tolist()\n",
    "\n",
    "solved_board = [[unsolved_board[i][j] for j in range(9)] for i in range(9)]\n",
    "Solution().solveSudoku(solved_board)"
   ]
  },
  {
   "cell_type": "code",
   "execution_count": 8,
   "metadata": {},
   "outputs": [],
   "source": [
    "aug_text = np.zeros((OUTER_DIM, OUTER_DIM, 3), dtype=np.uint8)\n",
    "\n",
    "for x in range(9):\n",
    "    for y in range(9):\n",
    "        \n",
    "        if unsolved_board[x][y] == 0:\n",
    "            loc = ((y) * CELL + MARGIN + 5, (x+1)*CELL - MARGIN - 3)\n",
    "            cv2.putText(aug_text, str(solved_board[x][y]), loc, cv2.FONT_HERSHEY_COMPLEX, 1, (0, 255, 0), 1, cv2.LINE_AA)\n",
    "\n"
   ]
  },
  {
   "cell_type": "code",
   "execution_count": 9,
   "metadata": {},
   "outputs": [],
   "source": [
    "M = cv2.getPerspectiveTransform(pt2, pt1)\n",
    "corrected_aug_text = cv2.warpPerspective(aug_text, M, (WIDTH, HEIGHT))"
   ]
  },
  {
   "cell_type": "code",
   "execution_count": 10,
   "metadata": {},
   "outputs": [],
   "source": [
    "mask = cv2.cvtColor(corrected_aug_text, cv2.COLOR_BGR2GRAY)\n",
    "\n",
    "_, mask = cv2.threshold(mask, 50, 255, cv2.THRESH_BINARY)\n",
    "mask_inv = cv2.bitwise_not(mask)\n",
    "\n",
    "fg = cv2.bitwise_and(corrected_aug_text, corrected_aug_text, mask=mask)\n",
    "bg = cv2.bitwise_and(img, img, mask=mask_inv)\n",
    "\n",
    "final_img = cv2.add(fg, bg)"
   ]
  },
  {
   "cell_type": "code",
   "execution_count": 11,
   "metadata": {},
   "outputs": [
    {
     "data": {
      "text/plain": [
       "False"
      ]
     },
     "execution_count": 11,
     "metadata": {},
     "output_type": "execute_result"
    }
   ],
   "source": [
    "show(final_img)"
   ]
  },
  {
   "cell_type": "code",
   "execution_count": null,
   "metadata": {},
   "outputs": [],
   "source": []
  }
 ],
 "metadata": {
  "kernelspec": {
   "display_name": "tf-gpu",
   "language": "python",
   "name": "tf-gpu"
  },
  "language_info": {
   "codemirror_mode": {
    "name": "ipython",
    "version": 3
   },
   "file_extension": ".py",
   "mimetype": "text/x-python",
   "name": "python",
   "nbconvert_exporter": "python",
   "pygments_lexer": "ipython3",
   "version": "3.9.4"
  }
 },
 "nbformat": 4,
 "nbformat_minor": 4
}
