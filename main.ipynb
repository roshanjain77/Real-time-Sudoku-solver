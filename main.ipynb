{
 "cells": [
  {
   "cell_type": "code",
   "execution_count": 1,
   "metadata": {},
   "outputs": [],
   "source": [
    "import cv2\n",
    "import numpy as np\n"
   ]
  },
  {
   "cell_type": "code",
   "execution_count": 2,
   "metadata": {},
   "outputs": [],
   "source": [
    "img = cv2.imread(\"sudoku.jpg\", 1)\n",
    "gray = cv2.cvtColor(img, cv2.COLOR_BGR2GRAY)\n",
    "\n",
    "blur = cv2.GaussianBlur(gray, (5, 5), 0)\n",
    "\n",
    "thresh = cv2.adaptiveThreshold(blur, 255, cv2.ADAPTIVE_THRESH_GAUSSIAN_C, cv2.THRESH_BINARY, 9, 2)\n",
    "\n",
    "edged = cv2.Canny(gray, 80, 200)\n",
    "edged = cv2.bitwise_not(edged)\n",
    "\n",
    "\n",
    "### DEBUG ###\n",
    "\n",
    "cv2.imshow(\"orignal\", img)\n",
    "cv2.imshow(\"gray\", gray)\n",
    "cv2.imshow(\"blur\", blur)\n",
    "cv2.imshow(\"threshold\", thresh)\n",
    "cv2.imshow(\"edged\", edged)\n",
    "\n",
    "###\n",
    "\n",
    "cv2.waitKey(0)\n",
    "cv2.destroyAllWindows()"
   ]
  },
  {
   "cell_type": "markdown",
   "metadata": {},
   "source": [
    "## Finding Contours\n",
    "\n",
    "You can use either thresh or edged, both should work just fine"
   ]
  },
  {
   "cell_type": "code",
   "execution_count": 3,
   "metadata": {},
   "outputs": [],
   "source": [
    "contours, _ = cv2.findContours(thresh, cv2.RETR_TREE, cv2.CHAIN_APPROX_SIMPLE)\n",
    "\n",
    "cont = img.copy()\n",
    "cv2.drawContours(cont, contours, -1, (0, 0, 255), 2)\n",
    "\n",
    "cv2.imshow(\"contour\", cont)\n",
    "\n",
    "cv2.waitKey(0)\n",
    "cv2.destroyAllWindows()"
   ]
  },
  {
   "cell_type": "markdown",
   "metadata": {},
   "source": [
    "## Finding the outer box"
   ]
  },
  {
   "cell_type": "code",
   "execution_count": 30,
   "metadata": {},
   "outputs": [
    {
     "name": "stdout",
     "output_type": "stream",
     "text": [
      "(4, 1, 2)\n"
     ]
    }
   ],
   "source": [
    "outer_cnt = None\n",
    "max_area = 0\n",
    "\n",
    "for cnt in contours:\n",
    "    \n",
    "    cur_area = cv2.contourArea(cnt)\n",
    "    \n",
    "    if 25000 < cur_area < 200000 and max_area < cur_area:\n",
    "        \n",
    "        perimeter = cv2.arcLength(cnt, True)\n",
    "        simplified = cv2.approxPolyDP(cnt, 0.01*perimeter, True)\n",
    "    \n",
    "        if len(simplified) == 4:\n",
    "            outer_cnt = simplified\n",
    "            max_area = cur_area\n",
    "\n",
    "            \n",
    "if outer_cnt is not None:\n",
    "    \n",
    "    cont = img.copy()\n",
    "    cv2.drawContours(cont, [outer_cnt], -1, (0, 255, 0), 15)\n",
    "    \n",
    "    cv2.imshow(\"contour\", cont)\n",
    "    cv2.waitKey(0)\n",
    "    cv2.destroyAllWindows()\n",
    "        \n",
    "        \n",
    "\n",
    "print(outer_cnt.shape)"
   ]
  },
  {
   "cell_type": "markdown",
   "metadata": {},
   "source": [
    "## Finding the smaller boxes"
   ]
  },
  {
   "cell_type": "code",
   "execution_count": 31,
   "metadata": {},
   "outputs": [],
   "source": [
    "smaller = []\n",
    "\n",
    "for cnt in contours:\n",
    "    \n",
    "    area = cv2.contourArea(cnt)\n",
    "    \n",
    "    if 400 < area < 3000:\n",
    "        \n",
    "        perimeter = cv2.arcLength(cnt, True)\n",
    "        simplified = cv2.approxPolyDP(cnt, 0.01*perimeter, True)\n",
    "    \n",
    "        if len(simplified) == 4:\n",
    "            smaller.append(cnt)\n",
    "\n",
    "img_copy = img.copy()\n",
    "cv2.drawContours(img_copy, smaller, -1, (0, 255, 0), 3)\n",
    "cv2.imshow(\"smaller boxes\", img_copy)\n",
    "\n",
    "cv2.waitKey(0)\n",
    "cv2.destroyAllWindows()"
   ]
  },
  {
   "cell_type": "code",
   "execution_count": 6,
   "metadata": {},
   "outputs": [],
   "source": [
    "## lr means sort left to right\n",
    "## tb means sort top to bottom\n",
    "## rowise means left to right first, then top to bottom\n",
    "\n",
    "def sort_contours(cnts, lr=True, tb=True, rowise=True):\n",
    "    \n",
    "    if rowise:\n",
    "        key = lambda x: (x[1][1] if tb else -x[1][1], x[1][0] if lr else -x[1][0])\n",
    "    else:\n",
    "        key = lambda x: (x[1][0] if lr else -x[1][0], x[1][1] if tb else -x[1][1])\n",
    "\n",
    "\n",
    "    boundingBoxes = [cv2.boundingRect(c) for c in cnts]\n",
    "    (cnts, boundingBoxes) = zip(*sorted(zip(cnts, boundingBoxes), key=key))\n",
    "    \n",
    "    return (cnts, boundingBoxes)\n",
    "    "
   ]
  },
  {
   "cell_type": "code",
   "execution_count": 23,
   "metadata": {},
   "outputs": [
    {
     "name": "stdout",
     "output_type": "stream",
     "text": [
      "81\n"
     ]
    }
   ],
   "source": [
    "smaller, boundingBoxes = sort_contours(smaller)\n",
    "print(len(boundingBoxes))\n",
    "\n",
    "### DEBUG: check if sort working properly ###\n",
    "\n",
    "img_copy = img.copy()\n",
    "cv2.drawContours(img_copy, smaller, 9, (0, 255, 0), 3)\n",
    "# cv2.drawContours(img_copy, smaller, 2, (0, 255, 0), 3)\n",
    "cv2.imshow(\"2nd & 9th box sorted\", img_copy)\n",
    "\n",
    "cv2.waitKey(0)\n",
    "cv2.destroyAllWindows()\n",
    "\n",
    "### DEBUG ###"
   ]
  },
  {
   "cell_type": "code",
   "execution_count": 38,
   "metadata": {},
   "outputs": [
    {
     "data": {
      "text/plain": [
       "(9, 9, 4)"
      ]
     },
     "execution_count": 38,
     "metadata": {},
     "output_type": "execute_result"
    }
   ],
   "source": [
    "boundingBoxes = np.array(boundingBoxes, dtype='object').reshape(-1, 9, 4)\n",
    "boundingBoxes.shape"
   ]
  },
  {
   "cell_type": "code",
   "execution_count": 35,
   "metadata": {},
   "outputs": [],
   "source": [
    "import time\n",
    "rois = []\n",
    "\n",
    "for i in boundingBoxes:\n",
    "    rois.append([])\n",
    "    for j in i:\n",
    "        rois[-1].append(img[j[1]:j[1]+j[3], j[0]:j[0]+j[2]])\n",
    "        \n",
    "        cv2.imshow(f\"roi-{time.time()}\", rois[-1][-1])\n",
    "        \n",
    "cv2.waitKey(0)\n",
    "cv2.destroyAllWindows()"
   ]
  },
  {
   "cell_type": "code",
   "execution_count": null,
   "metadata": {
    "scrolled": true
   },
   "outputs": [],
   "source": []
  },
  {
   "cell_type": "code",
   "execution_count": null,
   "metadata": {},
   "outputs": [],
   "source": []
  }
 ],
 "metadata": {
  "kernelspec": {
   "display_name": "Python 3",
   "language": "python",
   "name": "python3"
  },
  "language_info": {
   "codemirror_mode": {
    "name": "ipython",
    "version": 3
   },
   "file_extension": ".py",
   "mimetype": "text/x-python",
   "name": "python",
   "nbconvert_exporter": "python",
   "pygments_lexer": "ipython3",
   "version": "3.8.5"
  }
 },
 "nbformat": 4,
 "nbformat_minor": 4
}
