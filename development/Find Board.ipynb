{
 "cells": [
  {
   "cell_type": "code",
   "execution_count": 1,
   "metadata": {},
   "outputs": [
    {
     "name": "stdout",
     "output_type": "stream",
     "text": [
      "[[1 1 1 1 1 1 1 1 1]\n",
      " [1 1 1 1 1 1 1 1 1]\n",
      " [1 1 1 1 1 1 1 1 1]\n",
      " [1 1 1 1 1 1 1 1 1]\n",
      " [1 1 1 1 1 1 1 1 1]\n",
      " [1 1 1 1 1 1 1 1 1]\n",
      " [1 1 1 1 1 1 1 1 1]\n",
      " [1 1 1 1 1 1 1 1 1]\n",
      " [1 1 1 1 1 1 1 1 1]]\n"
     ]
    }
   ],
   "source": [
    "import cv2\n",
    "import time\n",
    "import numpy as np\n",
    "from utils import *"
   ]
  },
  {
   "cell_type": "code",
   "execution_count": 2,
   "metadata": {},
   "outputs": [
    {
     "data": {
      "text/plain": [
       "False"
      ]
     },
     "execution_count": 2,
     "metadata": {},
     "output_type": "execute_result"
    }
   ],
   "source": [
    "img = cv2.imread(\"../Images/failed3.png\", 1)\n",
    "\n",
    "HEIGHT, WIDTH = img.shape[:2]\n",
    "AREA = HEIGHT * WIDTH\n",
    "\n",
    "np.save(\"dimensions\", np.array([HEIGHT, WIDTH]))\n",
    "\n",
    "CELL_AREA_MAX = int(AREA / (9*9)) + 1\n",
    "CELL_AREA_MIN = CELL_AREA_MAX // 12\n",
    "\n",
    "show(img)"
   ]
  },
  {
   "cell_type": "code",
   "execution_count": 3,
   "metadata": {},
   "outputs": [
    {
     "data": {
      "text/plain": [
       "False"
      ]
     },
     "execution_count": 3,
     "metadata": {},
     "output_type": "execute_result"
    }
   ],
   "source": [
    "gray = cv2.cvtColor(img, cv2.COLOR_BGR2GRAY)\n",
    "blur = cv2.GaussianBlur(gray, (5, 5), 0)\n",
    "thresh = cv2.adaptiveThreshold(blur, 255, cv2.ADAPTIVE_THRESH_GAUSSIAN_C, cv2.THRESH_BINARY, 9, 4)\n",
    "thresh2 = cv2.erode(thresh, KERNEL5)\n",
    "\n",
    "\n",
    "show(thresh, thresh2)"
   ]
  },
  {
   "cell_type": "code",
   "execution_count": 4,
   "metadata": {},
   "outputs": [
    {
     "data": {
      "text/plain": [
       "False"
      ]
     },
     "execution_count": 4,
     "metadata": {},
     "output_type": "execute_result"
    }
   ],
   "source": [
    "contours, _ = cv2.findContours(thresh2, cv2.RETR_LIST, cv2.CHAIN_APPROX_SIMPLE)\n",
    "\n",
    "cimg = draw(img, contours)\n",
    "show(cimg, thresh2)"
   ]
  },
  {
   "cell_type": "code",
   "execution_count": 5,
   "metadata": {},
   "outputs": [
    {
     "data": {
      "text/plain": [
       "False"
      ]
     },
     "execution_count": 5,
     "metadata": {},
     "output_type": "execute_result"
    }
   ],
   "source": [
    "proImgg = img.copy()\n",
    "proImgr = img.copy()\n",
    "proImgb = img.copy()\n",
    "\n",
    "possible_cell_area = []\n",
    "boards = []\n",
    "\n",
    "for cnt in contours:\n",
    "\n",
    "    cur = cv2.contourArea(cnt)\n",
    "    \n",
    "    if CELL_AREA_MIN < cur < CELL_AREA_MAX:\n",
    "        \n",
    "        draw_on(proImgg, [cnt], thickness=-1)\n",
    "\n",
    "        simplified = approxPoly(cnt)\n",
    "        \n",
    "        if len(simplified) == 4:\n",
    "            possible_cell_area.append(cur)\n",
    "            draw_on(proImgr, [simplified], color='r', thickness=-1)\n",
    "    \n",
    "    elif CELL_AREA_MIN * 81 < cur < CELL_AREA_MAX * 81:\n",
    "        \n",
    "        simplified = approxPoly(cnt)\n",
    "        \n",
    "        if len(simplified) == 4:\n",
    "            boards.append([cur, simplified])\n",
    "\n",
    "\n",
    "possible_cell_area.sort()\n",
    "\n",
    "Area, _ = frameArea(possible_cell_area)\n",
    "\n",
    "\n",
    "outerContour = None\n",
    "\n",
    "for area, contour in boards:\n",
    "    if Area * 0.7 < area < Area * 1.7:\n",
    "        outerContour = contour\n",
    "        \n",
    "draw_on(proImgb, [outerContour], thickness=-1)\n",
    "\n",
    "show(proImgg, proImgr, proImgb)"
   ]
  },
  {
   "cell_type": "code",
   "execution_count": 6,
   "metadata": {},
   "outputs": [],
   "source": [
    "if outerContour is not None:\n",
    "    \n",
    "    pt1 = np.float32(sorted(outerContour.reshape(4, 2), key=lambda x: (x[0], x[1])))\n",
    "    \n",
    "    pt2 = [[0, 0], [0, OUTER_DIM], [OUTER_DIM, 0], [OUTER_DIM, OUTER_DIM]]\n",
    "    if pt1[0][1] > pt1[1][1]:\n",
    "        pt2[0], pt2[1] = pt2[1], pt2[0]\n",
    "    \n",
    "    if pt1[2][1] > pt1[3][1]:\n",
    "        pt2[2], pt2[3] = pt2[3], pt2[2]\n",
    "    \n",
    "    pt2 = np.float32(pt2)\n",
    "    \n",
    "    np.save(\"pt1\", pt1)\n",
    "    np.save(\"pt2\", pt2)\n",
    "    \n",
    "    M = cv2.getPerspectiveTransform(pt1, pt2)\n",
    "    new_img = cv2.warpPerspective(thresh, M, (OUTER_DIM, OUTER_DIM))\n",
    "    \n",
    "    show(img, new_img)\n",
    "    \n",
    "    cv2.imwrite(\"tmp.png\", new_img)\n",
    "    \n",
    "else:\n",
    "    print(\"No board detected\")\n"
   ]
  },
  {
   "cell_type": "code",
   "execution_count": null,
   "metadata": {},
   "outputs": [],
   "source": []
  }
 ],
 "metadata": {
  "kernelspec": {
   "display_name": "tf-gpu",
   "language": "python",
   "name": "tf-gpu"
  },
  "language_info": {
   "codemirror_mode": {
    "name": "ipython",
    "version": 3
   },
   "file_extension": ".py",
   "mimetype": "text/x-python",
   "name": "python",
   "nbconvert_exporter": "python",
   "pygments_lexer": "ipython3",
   "version": "3.9.4"
  }
 },
 "nbformat": 4,
 "nbformat_minor": 4
}
