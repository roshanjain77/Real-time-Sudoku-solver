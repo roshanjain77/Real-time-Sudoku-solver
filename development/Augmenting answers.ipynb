{
 "cells": [
  {
   "cell_type": "code",
   "execution_count": 1,
   "metadata": {},
   "outputs": [],
   "source": [
    "import cv2\n",
    "import numpy as np\n",
    "from utils import *"
   ]
  },
  {
   "cell_type": "code",
   "execution_count": 2,
   "metadata": {},
   "outputs": [],
   "source": [
    "dims = np.load(\"dimensions.npy\")\n",
    "img = cv2.imread(\"Images/dark-mode.png\")\n",
    "\n",
    "HEIGHT, WIDTH = dims[0], dims[1]"
   ]
  },
  {
   "cell_type": "code",
   "execution_count": 3,
   "metadata": {},
   "outputs": [],
   "source": [
    "def string_board(board: str):\n",
    "    new_board = []\n",
    "    for row in board.strip('\\n').split(\"\\n\"):\n",
    "        new_board.append(list(map(int, row.strip().split(\" \"))))\n",
    "    return new_board"
   ]
  },
  {
   "cell_type": "code",
   "execution_count": 4,
   "metadata": {},
   "outputs": [],
   "source": [
    "pt1 = np.load(\"pt2.npy\")\n",
    "pt2 = np.load(\"pt1.npy\")\n",
    "\n",
    "with open(\"sudoku_values.txt\", \"r\") as f:\n",
    "    unsolved_board = f.read()\n",
    "\n",
    "with open(\"solved_sudoku.txt\", \"r\") as f:\n",
    "    solved_board = f.read()\n",
    "\n",
    "unsolved_board = string_board(unsolved_board)\n",
    "solved_board = string_board(solved_board)"
   ]
  },
  {
   "cell_type": "code",
   "execution_count": 30,
   "metadata": {},
   "outputs": [
    {
     "data": {
      "text/plain": [
       "False"
      ]
     },
     "execution_count": 30,
     "metadata": {},
     "output_type": "execute_result"
    }
   ],
   "source": [
    "aug_text = np.zeros((OUTER_DIM, OUTER_DIM, 3), dtype=np.float32).astype('uint8')\n",
    "\n",
    "for x in range(9):\n",
    "    for y in range(9):\n",
    "        \n",
    "        if unsolved_board[x][y] == 0:\n",
    "            loc = ((y) * CELL + MARGIN + 5, (x+1)*CELL - MARGIN - 3)\n",
    "            cv2.putText(aug_text, str(solved_board[x][y]), loc, cv2.FONT_HERSHEY_COMPLEX, 1, (0, 255, 0), 1, cv2.LINE_AA)\n",
    "\n",
    "show(aug_text)"
   ]
  },
  {
   "cell_type": "code",
   "execution_count": 31,
   "metadata": {},
   "outputs": [
    {
     "data": {
      "text/plain": [
       "False"
      ]
     },
     "execution_count": 31,
     "metadata": {},
     "output_type": "execute_result"
    }
   ],
   "source": [
    "M = cv2.getPerspectiveTransform(pt1, pt2)\n",
    "corrected_aug_text = cv2.warpPerspective(aug_text, M, (WIDTH, HEIGHT))\n",
    "\n",
    "show(corrected_aug_text, img)"
   ]
  },
  {
   "cell_type": "code",
   "execution_count": 32,
   "metadata": {},
   "outputs": [
    {
     "data": {
      "text/plain": [
       "False"
      ]
     },
     "execution_count": 32,
     "metadata": {},
     "output_type": "execute_result"
    }
   ],
   "source": [
    "mask = cv2.cvtColor(corrected_aug_text, cv2.COLOR_BGR2GRAY)\n",
    "\n",
    "show(mask)\n",
    "_, mask = cv2.threshold(mask, 50, 255, cv2.THRESH_BINARY)\n",
    "mask_inv = cv2.bitwise_not(mask)\n",
    "\n",
    "show(mask, mask_inv)"
   ]
  },
  {
   "cell_type": "code",
   "execution_count": 33,
   "metadata": {},
   "outputs": [],
   "source": [
    "fg = cv2.bitwise_and(corrected_aug_text, corrected_aug_text, mask=mask)\n",
    "bg = cv2.bitwise_and(img, img, mask=mask_inv)\n",
    "\n",
    "final_img = cv2.add(fg, bg)"
   ]
  },
  {
   "cell_type": "code",
   "execution_count": 34,
   "metadata": {},
   "outputs": [
    {
     "data": {
      "text/plain": [
       "False"
      ]
     },
     "execution_count": 34,
     "metadata": {},
     "output_type": "execute_result"
    }
   ],
   "source": [
    "show(final_img)"
   ]
  },
  {
   "cell_type": "code",
   "execution_count": null,
   "metadata": {},
   "outputs": [],
   "source": []
  }
 ],
 "metadata": {
  "kernelspec": {
   "display_name": "tf-gpu",
   "language": "python",
   "name": "tf-gpu"
  },
  "language_info": {
   "codemirror_mode": {
    "name": "ipython",
    "version": 3
   },
   "file_extension": ".py",
   "mimetype": "text/x-python",
   "name": "python",
   "nbconvert_exporter": "python",
   "pygments_lexer": "ipython3",
   "version": "3.9.4"
  }
 },
 "nbformat": 4,
 "nbformat_minor": 4
}
