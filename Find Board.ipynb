{
 "cells": [
  {
   "cell_type": "code",
   "execution_count": 13,
   "metadata": {},
   "outputs": [],
   "source": [
    "import cv2\n",
    "import time\n",
    "import numpy as np\n",
    "from utils import *"
   ]
  },
  {
   "cell_type": "code",
   "execution_count": 14,
   "metadata": {},
   "outputs": [
    {
     "data": {
      "text/plain": [
       "False"
      ]
     },
     "execution_count": 14,
     "metadata": {},
     "output_type": "execute_result"
    }
   ],
   "source": [
    "img = cv2.imread(\"Images/rotated-board.jpg\", 1)\n",
    "\n",
    "HEIGHT, WIDTH = img.shape[:2]\n",
    "AREA = HEIGHT * WIDTH\n",
    "\n",
    "np.save(\"dimensions\", np.array([HEIGHT, WIDTH]))\n",
    "\n",
    "\n",
    "CELL_AREA_MIN = int(AREA * 0.8 / (27*27))\n",
    "CELL_AREA_MAX = int(AREA / (9*9)) + 1\n",
    "\n",
    "show(img)"
   ]
  },
  {
   "cell_type": "code",
   "execution_count": 4,
   "metadata": {},
   "outputs": [
    {
     "data": {
      "text/plain": [
       "False"
      ]
     },
     "execution_count": 4,
     "metadata": {},
     "output_type": "execute_result"
    }
   ],
   "source": [
    "gray = cv2.cvtColor(img, cv2.COLOR_BGR2GRAY)\n",
    "blur = cv2.GaussianBlur(gray, (5, 5), 0)\n",
    "# blur = cv2.bilateralFilter(gray, 15, 25, 25)\n",
    "thresh = cv2.adaptiveThreshold(blur, 255, cv2.ADAPTIVE_THRESH_GAUSSIAN_C, cv2.THRESH_BINARY, 9, 4)\n",
    "thresh2 = cv2.erode(thresh, KERNEL5)\n",
    "\n",
    "edged = cv2.Canny(gray, 80, 200)\n",
    "\n",
    "\n",
    "show(thresh, thresh2)"
   ]
  },
  {
   "cell_type": "code",
   "execution_count": 5,
   "metadata": {},
   "outputs": [
    {
     "data": {
      "text/plain": [
       "False"
      ]
     },
     "execution_count": 5,
     "metadata": {},
     "output_type": "execute_result"
    }
   ],
   "source": [
    "contours, _ = cv2.findContours(thresh2, cv2.RETR_LIST, cv2.CHAIN_APPROX_SIMPLE)\n",
    "\n",
    "cimg = draw(img, contours)\n",
    "show(cimg, thresh2)"
   ]
  },
  {
   "cell_type": "code",
   "execution_count": 6,
   "metadata": {},
   "outputs": [
    {
     "name": "stdout",
     "output_type": "stream",
     "text": [
      "82\n"
     ]
    }
   ],
   "source": [
    "proImgg = img.copy()\n",
    "proImgr = img.copy()\n",
    "proImgb = img.copy()\n",
    "\n",
    "area = []\n",
    "\n",
    "for cnt in contours:\n",
    "\n",
    "    cur = cv2.contourArea(cnt)\n",
    "    draw_on(proImgb, [cnt], thickness=-1, color='b')\n",
    "    \n",
    "    \n",
    "    if CELL_AREA_MIN < cur < CELL_AREA_MAX:\n",
    "        \n",
    "        draw_on(proImgg, [cnt], thickness=-1)\n",
    "            \n",
    "        simplified = approxPoly(cnt)\n",
    "        \n",
    "        if len(simplified) == 4:\n",
    "            area.append(cur)\n",
    "            draw_on(proImgr, [cnt], color='r', thickness=-1)\n",
    "\n",
    "\n",
    "show(proImgg, proImgr)\n",
    "\n",
    "area.sort()\n",
    "print(len(area))"
   ]
  },
  {
   "cell_type": "code",
   "execution_count": 7,
   "metadata": {},
   "outputs": [
    {
     "data": {
      "text/plain": [
       "181170.0"
      ]
     },
     "execution_count": 7,
     "metadata": {},
     "output_type": "execute_result"
    }
   ],
   "source": [
    "Area, _ = frameArea(area)\n",
    "Area"
   ]
  },
  {
   "cell_type": "code",
   "execution_count": 8,
   "metadata": {},
   "outputs": [],
   "source": [
    "outerContour = None\n",
    "\n",
    "blurIntense = cv2.GaussianBlur(thresh, (11, 11), 0)\n",
    "thresh3 = cv2.adaptiveThreshold(blurIntense, 255, cv2.ADAPTIVE_THRESH_GAUSSIAN_C, cv2.THRESH_BINARY, 9, 4)\n",
    "thresh3 = cv2.erode(thresh3, KERNEL7)\n",
    "\n",
    "show(blurIntense, thresh3)\n",
    "\n",
    "# contours2, _ = cv2.findContours(thresh3, cv2.RETR_LIST, cv2.CHAIN_APPROX_SIMPLE)\n",
    "contours2 = contours\n",
    "\n",
    "cnt = draw(img, contours2)\n",
    "show(cnt)\n",
    "\n",
    "if Area is not None:\n",
    "    \n",
    "    for cnt in contours2:\n",
    "        \n",
    "        area = cv2.contourArea(cnt)\n",
    "        \n",
    "        \n",
    "        if Area*0.5 < area < Area*2:\n",
    "            \n",
    "            simplified = approxPoly(cnt, factor=0.05)\n",
    "            \n",
    "            if len(simplified) == 4:\n",
    "                cnt = draw(img, [simplified], thickness=-1)\n",
    "                show(cnt)\n",
    "                \n",
    "                outerContour = simplified\n",
    "\n"
   ]
  },
  {
   "cell_type": "code",
   "execution_count": 12,
   "metadata": {},
   "outputs": [],
   "source": [
    "if outerContour is not None:\n",
    "    \n",
    "    m = np.mean(outerContour)\n",
    "    pt1 = np.float32(sorted(outerContour.reshape(4, 2), key=lambda x: (x[0], x[1])))\n",
    "    \n",
    "    pt2 = [[0, 0], [0, OUTER_DIM], [OUTER_DIM, 0], [OUTER_DIM, OUTER_DIM]]\n",
    "    if pt1[0][1] > pt1[1][1]:\n",
    "        pt2[0], pt2[1] = pt2[1], pt2[0]\n",
    "    \n",
    "    if pt1[2][1] > pt1[3][1]:\n",
    "        pt2[2], pt2[3] = pt2[3], pt2[2]\n",
    "    \n",
    "    pt2 = np.float32(pt2)\n",
    "    \n",
    "    np.save(\"pt1\", pt1)\n",
    "    \n",
    "    M = cv2.getPerspectiveTransform(pt1, pt2)\n",
    "    new_img = cv2.warpPerspective(thresh, M, (OUTER_DIM, OUTER_DIM))\n",
    "    color_img = cv2.warpPerspective(img, M, (OUTER_DIM, OUTER_DIM))\n",
    "    \n",
    "    \n",
    "#     _, new_img = cv2.threshold(new_img, 100, 255, cv2.THRESH_BINARY_INV)\n",
    "    show(img, new_img, color_img)\n",
    "    \n",
    "    cv2.imwrite(\"tmp.png\", new_img)\n",
    "    cv2.imwrite(\"col_tmp.png\", color_img)\n",
    "    \n",
    "else:\n",
    "    print(\"No board detected\")\n"
   ]
  },
  {
   "cell_type": "code",
   "execution_count": null,
   "metadata": {},
   "outputs": [],
   "source": []
  }
 ],
 "metadata": {
  "kernelspec": {
   "display_name": "tf-gpu",
   "language": "python",
   "name": "tf-gpu"
  },
  "language_info": {
   "codemirror_mode": {
    "name": "ipython",
    "version": 3
   },
   "file_extension": ".py",
   "mimetype": "text/x-python",
   "name": "python",
   "nbconvert_exporter": "python",
   "pygments_lexer": "ipython3",
   "version": "3.9.4"
  }
 },
 "nbformat": 4,
 "nbformat_minor": 4
}
